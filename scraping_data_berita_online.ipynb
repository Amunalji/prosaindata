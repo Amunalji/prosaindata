{
  "nbformat": 4,
  "nbformat_minor": 0,
  "metadata": {
    "colab": {
      "provenance": [],
      "authorship_tag": "ABX9TyMDgdioRmtE7fqnENq8IXF5",
      "include_colab_link": true
    },
    "kernelspec": {
      "name": "python3",
      "display_name": "Python 3"
    },
    "language_info": {
      "name": "python"
    }
  },
  "cells": [
    {
      "cell_type": "markdown",
      "metadata": {
        "id": "view-in-github",
        "colab_type": "text"
      },
      "source": [
        "<a href=\"https://colab.research.google.com/github/Amunalji/prosaindata/blob/main/scraping_data_berita_online.ipynb\" target=\"_parent\"><img src=\"https://colab.research.google.com/assets/colab-badge.svg\" alt=\"Open In Colab\"/></a>"
      ]
    },
    {
      "cell_type": "code",
      "execution_count": 1,
      "metadata": {
        "id": "XaTUqPalUQtz"
      },
      "outputs": [],
      "source": [
        "import requests as req\n",
        "from bs4 import BeautifulSoup as bs\n",
        "from datetime import datetime\n",
        "import csv\n",
        "hades = {'user-agent': 'Mozilla/5.0 (Windows NT 10.0; Win64; x64) AppleWebKit/537.36 (KHTML, like Gecko) Chrome/106.0.0.0 Safari/537.36'}"
      ]
    },
    {
      "cell_type": "code",
      "source": [
        "def scrape_detik(hal):\n",
        "    global hades\n",
        "    a = 1\n",
        "    for page in range(1,hal):\n",
        "        url = f'https://www.detik.com/search/searchnews?query=pemilu+2024&sortby=time&page={page}'\n",
        "        ge = req.get(url,hades).text\n",
        "        sop = bs(ge,'lxml')\n",
        "        li = sop.find('div',class_='list media_rows list-berita')\n",
        "        lin = li.find_all('article')\n",
        "        for x in lin:\n",
        "            link = x.find('a')['href']\n",
        "            headline = x.find('a').find('h2').text\n",
        "            ge_ = req.get(link,hades).text\n",
        "            sop_ = bs(ge_,'lxml')\n",
        "            content = sop_.find_all('div',class_='detail__body-text itp_bodycontent')\n",
        "            for x in content:\n",
        "                x = x.find_all('p')\n",
        "                y  = [y.text for y in x ]\n",
        "                content_ = ''.join(y).replace('\\n', '').replace('ADVERTISEMENT','').replace('SCROLL TO RESUME CONTENT','')\n",
        "                print(f'done[{a}] > {headline[0:10]}')\n",
        "                a += 1\n",
        "                with open('politik.csv','a')as file:\n",
        "                    wr = csv.writer(file, delimiter=',')\n",
        "                    wr.writerow([headline,content_])"
      ],
      "metadata": {
        "id": "JyNwHs3HUhHN"
      },
      "execution_count": 2,
      "outputs": []
    },
    {
      "cell_type": "code",
      "source": [
        "scrape_detik(3)"
      ],
      "metadata": {
        "colab": {
          "base_uri": "https://localhost:8080/"
        },
        "id": "oW3AbA4QUpyT",
        "outputId": "579af7a5-46e2-4b1d-824c-6904a97b77a5"
      },
      "execution_count": 3,
      "outputs": [
        {
          "output_type": "stream",
          "name": "stdout",
          "text": [
            "done[1] > PAN soal K\n",
            "done[2] > Resmi! PKS\n",
            "done[3] > KPU Badung\n",
            "done[4] > Hasto PDIP\n",
            "done[5] > Anies Disa\n",
            "done[6] > Jalan TB S\n",
            "done[7] > Kata PDIP \n",
            "done[8] > Pemilu 202\n",
            "done[9] > Anies Basw\n",
            "done[10] > RS Rujukan\n",
            "done[11] > Ridwan Kam\n",
            "done[12] > FX Rudy Ja\n",
            "done[13] > PAN Akan G\n",
            "done[14] > Beberes Da\n",
            "done[15] > Mardani Ya\n",
            "done[16] > NasDem Tak\n",
            "done[17] > RK Jadi Ca\n",
            "done[18] > Gus Muhaim\n"
          ]
        }
      ]
    },
    {
      "cell_type": "code",
      "source": [
        "import pandas as pd\n",
        "# Memuat file CSV sebagai dataframe\n",
        "df = pd.read_csv('politik.csv')"
      ],
      "metadata": {
        "id": "kEM2k2f6Uyfb"
      },
      "execution_count": 7,
      "outputs": []
    },
    {
      "cell_type": "code",
      "source": [
        "# Menampilkan dataframe menggunakan fungsi display()\n",
        "display(df)"
      ],
      "metadata": {
        "colab": {
          "base_uri": "https://localhost:8080/",
          "height": 1000
        },
        "id": "h82P52j6VuqB",
        "outputId": "1b9a137a-e0ae-4b7d-9fb1-7d45a6ca9382"
      },
      "execution_count": 8,
      "outputs": [
        {
          "output_type": "display_data",
          "data": {
            "text/plain": [
              "   PAN soal Kriteria Capres: Mampu Pulihkan Kursi di Jateng dan Jatim  \\\n",
              "0           Resmi! PKS Deklarasikan Anies Capres 2024                   \n",
              "1   KPU Badung Anggarkan Pilkada 2024 Rp 47,6 Mili...                   \n",
              "2   Hasto PDIP Bicara Gerakan Per Orang Bakal Bany...                   \n",
              "3   Anies Disambut Atraksi Palang Pintu Jelang Dek...                   \n",
              "4   Jalan TB Simatupang Macet Saat Anies Naik Delm...                   \n",
              "5   Kata PDIP Usai Paloh Bilang Pemerintah Dukung ...                   \n",
              "6    Pemilu 2024 Bulan Apa? Cek Jadwal dan Tahapannya                   \n",
              "7   Anies Baswedan Naik Delman Menuju Deklarasi Ca...                   \n",
              "8   RS Rujukan Kesehatan Jiwa Makassar Siapkan Bed...                   \n",
              "9   Ridwan Kamil Ikut Golkar Dukung Sistem Pemilu ...                   \n",
              "10  FX Rudy Jawab Isu Jadi Menpora: Ditawarin Pun ...                   \n",
              "11  PAN Akan Gelar Rakornas di Jateng, Ada kejutan...                   \n",
              "12  Beberes Data Jelang Pemilu, Ada 1.982 Pemilih ...                   \n",
              "13  Mardani Yakin Elektabilitas Anies Akan Naik Us...                   \n",
              "14  NasDem Tak Masalah Anies Merosot di Survei Lit...                   \n",
              "15  RK Jadi Capres Alternatif Populer, Pengamat: S...                   \n",
              "16  Gus Muhaimin Ingin Kebudayaan Jadi Panglima Pe...                   \n",
              "\n",
              "   Ketua Dewan Pakar PAN Dradjad Wibowo membeberkan kriteria bakal calon presiden (bacapres) yang akan diusung partainya di Pemilu 2024. Dradjad menyebut salah satu kriterianya, capres yang diusung mampu memulihkan perolehan kursi PAN di Jawa Tengah (Jateng) dan Jawa Timur (Jatim).\"Dalam konteks politik praktis, calon tersebut elektabilitasnya harus bagus, serta mampu meningkatkan perolehan kursi PAN dalam Pileg 2024. Lebih spesifik lagi, memulihkan perolehan kursi PAN di Jawa Tengah dan Jawa Timur yang anjlok dalam Pileg 2019,\" kata Drajad saat dikonfirmasi, Kamis (23/2/2023).Dradjad mengatakan bacapres PAN juga perlu menjaga Pancasila dan Undang-Undang Dasar (UUD) 1945. Selain itu, lanjutnya, bacapres juga perlu sejalan dengan PAN untuk menumbuhkan demokrasi di Indonesia.\\r    \\r  \\r        \\r  \"Harus sesuai dengan cita-cita perjuangan PAN, yaitu menumbuhkan kehidupan demokrasi, menegakkan keadilan bagi semua dan menciptakan kehidupan yang sejahtera,\" tutur Dradjad.\"Jadi calon tersebut haruslah tokoh yang memiliki karakter, kepemimpinan, visi, misi dan program yang layak menjadi harapan bagi kader dan konstituen PAN mewujudkan cita-cita perjuangan di atas,\" sambungnya.Sebelumya diberitakan, PAN akan menggelar Workshop dan Rapat Koordinasi Nasional (Rakornas) di Semarang, Jawa Tengah. Dalam gelaran tersebut, akan ada kejutan terkait capres dan cawapres.Simak berita selengkapnya di halaman selanjutnya.Tonton juga Video: PAN Rayu Gerindra-PKB Gabung KIB: Komunikasi Terus Dilakukan[Gambas:Video 20detik]  \n",
              "0   PKS resmi menetapkan calon presiden untuk dius...                                                                                                                                                                                                                                                                                                                                                                                                                                                                                                                                                                                                                                                                                                                                                                                                                                                                                                                                                                                                                                                                                                                                                                                                                                                                                                                                                                                                                                                                                                                                   \n",
              "1   Komisi Pemilihan Umum (KPU) Badung merancang a...                                                                                                                                                                                                                                                                                                                                                                                                                                                                                                                                                                                                                                                                                                                                                                                                                                                                                                                                                                                                                                                                                                                                                                                                                                                                                                                                                                                                                                                                                                                                   \n",
              "2   Sekjen PDI Perjuangan Hasto Kristiyanto mengat...                                                                                                                                                                                                                                                                                                                                                                                                                                                                                                                                                                                                                                                                                                                                                                                                                                                                                                                                                                                                                                                                                                                                                                                                                                                                                                                                                                                                                                                                                                                                   \n",
              "3   Bakal Calon Presiden Anies Baswedan tiba di DP...                                                                                                                                                                                                                                                                                                                                                                                                                                                                                                                                                                                                                                                                                                                                                                                                                                                                                                                                                                                                                                                                                                                                                                                                                                                                                                                                                                                                                                                                                                                                   \n",
              "4   Lalu lintas (lalin) di Jalan TB Simatupang, Ja...                                                                                                                                                                                                                                                                                                                                                                                                                                                                                                                                                                                                                                                                                                                                                                                                                                                                                                                                                                                                                                                                                                                                                                                                                                                                                                                                                                                                                                                                                                                                   \n",
              "5   Sekjen PDI Perjuangan Hasto Kristiyanto meresp...                                                                                                                                                                                                                                                                                                                                                                                                                                                                                                                                                                                                                                                                                                                                                                                                                                                                                                                                                                                                                                                                                                                                                                                                                                                                                                                                                                                                                                                                                                                                   \n",
              "6   Pemilu 2024 bulan apa? Pemilu adalah agenda re...                                                                                                                                                                                                                                                                                                                                                                                                                                                                                                                                                                                                                                                                                                                                                                                                                                                                                                                                                                                                                                                                                                                                                                                                                                                                                                                                                                                                                                                                                                                                   \n",
              "7   Eks gubernur DKI Jakarta Anies Baswedan tiba d...                                                                                                                                                                                                                                                                                                                                                                                                                                                                                                                                                                                                                                                                                                                                                                                                                                                                                                                                                                                                                                                                                                                                                                                                                                                                                                                                                                                                                                                                                                                                   \n",
              "8   Rumah Sakit Khusus Daerah (RSKD) Dadi Provinsi...                                                                                                                                                                                                                                                                                                                                                                                                                                                                                                                                                                                                                                                                                                                                                                                                                                                                                                                                                                                                                                                                                                                                                                                                                                                                                                                                                                                                                                                                                                                                   \n",
              "9   Mahkamah Konstitusi saat ini tengah menyidangk...                                                                                                                                                                                                                                                                                                                                                                                                                                                                                                                                                                                                                                                                                                                                                                                                                                                                                                                                                                                                                                                                                                                                                                                                                                                                                                                                                                                                                                                                                                                                   \n",
              "10  Nama Ketua DPC PDIP Kota Solo FX Hadi Rudyatmo...                                                                                                                                                                                                                                                                                                                                                                                                                                                                                                                                                                                                                                                                                                                                                                                                                                                                                                                                                                                                                                                                                                                                                                                                                                                                                                                                                                                                                                                                                                                                   \n",
              "11  Partai Amanat Nasional (PAN) akan menggelar Wo...                                                                                                                                                                                                                                                                                                                                                                                                                                                                                                                                                                                                                                                                                                                                                                                                                                                                                                                                                                                                                                                                                                                                                                                                                                                                                                                                                                                                                                                                                                                                   \n",
              "12  Panitia Pemuktahiran Data Pemilih (Pantarlih) ...                                                                                                                                                                                                                                                                                                                                                                                                                                                                                                                                                                                                                                                                                                                                                                                                                                                                                                                                                                                                                                                                                                                                                                                                                                                                                                                                                                                                                                                                                                                                   \n",
              "13  Elektabilitas Anies Baswedan mengalami penurun...                                                                                                                                                                                                                                                                                                                                                                                                                                                                                                                                                                                                                                                                                                                                                                                                                                                                                                                                                                                                                                                                                                                                                                                                                                                                                                                                                                                                                                                                                                                                   \n",
              "14  Elektabilitas Anies Baswedan mengalami penurun...                                                                                                                                                                                                                                                                                                                                                                                                                                                                                                                                                                                                                                                                                                                                                                                                                                                                                                                                                                                                                                                                                                                                                                                                                                                                                                                                                                                                                                                                                                                                   \n",
              "15  Litbang Kompas merilis hasil survei tentang ca...                                                                                                                                                                                                                                                                                                                                                                                                                                                                                                                                                                                                                                                                                                                                                                                                                                                                                                                                                                                                                                                                                                                                                                                                                                                                                                                                                                                                                                                                                                                                   \n",
              "16  Ketua Umum Partai Kebangkitan Bangsa (PKB) Abd...                                                                                                                                                                                                                                                                                                                                                                                                                                                                                                                                                                                                                                                                                                                                                                                                                                                                                                                                                                                                                                                                                                                                                                                                                                                                                                                                                                                                                                                                                                                                   "
            ],
            "text/html": [
              "\n",
              "  <div id=\"df-1c9e38b8-fca8-4f72-ac44-a8fbea0b3bbc\">\n",
              "    <div class=\"colab-df-container\">\n",
              "      <div>\n",
              "<style scoped>\n",
              "    .dataframe tbody tr th:only-of-type {\n",
              "        vertical-align: middle;\n",
              "    }\n",
              "\n",
              "    .dataframe tbody tr th {\n",
              "        vertical-align: top;\n",
              "    }\n",
              "\n",
              "    .dataframe thead th {\n",
              "        text-align: right;\n",
              "    }\n",
              "</style>\n",
              "<table border=\"1\" class=\"dataframe\">\n",
              "  <thead>\n",
              "    <tr style=\"text-align: right;\">\n",
              "      <th></th>\n",
              "      <th>PAN soal Kriteria Capres: Mampu Pulihkan Kursi di Jateng dan Jatim</th>\n",
              "      <th>Ketua Dewan Pakar PAN Dradjad Wibowo membeberkan kriteria bakal calon presiden (bacapres) yang akan diusung partainya di Pemilu 2024. Dradjad menyebut salah satu kriterianya, capres yang diusung mampu memulihkan perolehan kursi PAN di Jawa Tengah (Jateng) dan Jawa Timur (Jatim).\"Dalam konteks politik praktis, calon tersebut elektabilitasnya harus bagus, serta mampu meningkatkan perolehan kursi PAN dalam Pileg 2024. Lebih spesifik lagi, memulihkan perolehan kursi PAN di Jawa Tengah dan Jawa Timur yang anjlok dalam Pileg 2019,\" kata Drajad saat dikonfirmasi, Kamis (23/2/2023).Dradjad mengatakan bacapres PAN juga perlu menjaga Pancasila dan Undang-Undang Dasar (UUD) 1945. Selain itu, lanjutnya, bacapres juga perlu sejalan dengan PAN untuk menumbuhkan demokrasi di Indonesia.\\r    \\r  \\r        \\r  \"Harus sesuai dengan cita-cita perjuangan PAN, yaitu menumbuhkan kehidupan demokrasi, menegakkan keadilan bagi semua dan menciptakan kehidupan yang sejahtera,\" tutur Dradjad.\"Jadi calon tersebut haruslah tokoh yang memiliki karakter, kepemimpinan, visi, misi dan program yang layak menjadi harapan bagi kader dan konstituen PAN mewujudkan cita-cita perjuangan di atas,\" sambungnya.Sebelumya diberitakan, PAN akan menggelar Workshop dan Rapat Koordinasi Nasional (Rakornas) di Semarang, Jawa Tengah. Dalam gelaran tersebut, akan ada kejutan terkait capres dan cawapres.Simak berita selengkapnya di halaman selanjutnya.Tonton juga Video: PAN Rayu Gerindra-PKB Gabung KIB: Komunikasi Terus Dilakukan[Gambas:Video 20detik]</th>\n",
              "    </tr>\n",
              "  </thead>\n",
              "  <tbody>\n",
              "    <tr>\n",
              "      <th>0</th>\n",
              "      <td>Resmi! PKS Deklarasikan Anies Capres 2024</td>\n",
              "      <td>PKS resmi menetapkan calon presiden untuk dius...</td>\n",
              "    </tr>\n",
              "    <tr>\n",
              "      <th>1</th>\n",
              "      <td>KPU Badung Anggarkan Pilkada 2024 Rp 47,6 Mili...</td>\n",
              "      <td>Komisi Pemilihan Umum (KPU) Badung merancang a...</td>\n",
              "    </tr>\n",
              "    <tr>\n",
              "      <th>2</th>\n",
              "      <td>Hasto PDIP Bicara Gerakan Per Orang Bakal Bany...</td>\n",
              "      <td>Sekjen PDI Perjuangan Hasto Kristiyanto mengat...</td>\n",
              "    </tr>\n",
              "    <tr>\n",
              "      <th>3</th>\n",
              "      <td>Anies Disambut Atraksi Palang Pintu Jelang Dek...</td>\n",
              "      <td>Bakal Calon Presiden Anies Baswedan tiba di DP...</td>\n",
              "    </tr>\n",
              "    <tr>\n",
              "      <th>4</th>\n",
              "      <td>Jalan TB Simatupang Macet Saat Anies Naik Delm...</td>\n",
              "      <td>Lalu lintas (lalin) di Jalan TB Simatupang, Ja...</td>\n",
              "    </tr>\n",
              "    <tr>\n",
              "      <th>5</th>\n",
              "      <td>Kata PDIP Usai Paloh Bilang Pemerintah Dukung ...</td>\n",
              "      <td>Sekjen PDI Perjuangan Hasto Kristiyanto meresp...</td>\n",
              "    </tr>\n",
              "    <tr>\n",
              "      <th>6</th>\n",
              "      <td>Pemilu 2024 Bulan Apa? Cek Jadwal dan Tahapannya</td>\n",
              "      <td>Pemilu 2024 bulan apa? Pemilu adalah agenda re...</td>\n",
              "    </tr>\n",
              "    <tr>\n",
              "      <th>7</th>\n",
              "      <td>Anies Baswedan Naik Delman Menuju Deklarasi Ca...</td>\n",
              "      <td>Eks gubernur DKI Jakarta Anies Baswedan tiba d...</td>\n",
              "    </tr>\n",
              "    <tr>\n",
              "      <th>8</th>\n",
              "      <td>RS Rujukan Kesehatan Jiwa Makassar Siapkan Bed...</td>\n",
              "      <td>Rumah Sakit Khusus Daerah (RSKD) Dadi Provinsi...</td>\n",
              "    </tr>\n",
              "    <tr>\n",
              "      <th>9</th>\n",
              "      <td>Ridwan Kamil Ikut Golkar Dukung Sistem Pemilu ...</td>\n",
              "      <td>Mahkamah Konstitusi saat ini tengah menyidangk...</td>\n",
              "    </tr>\n",
              "    <tr>\n",
              "      <th>10</th>\n",
              "      <td>FX Rudy Jawab Isu Jadi Menpora: Ditawarin Pun ...</td>\n",
              "      <td>Nama Ketua DPC PDIP Kota Solo FX Hadi Rudyatmo...</td>\n",
              "    </tr>\n",
              "    <tr>\n",
              "      <th>11</th>\n",
              "      <td>PAN Akan Gelar Rakornas di Jateng, Ada kejutan...</td>\n",
              "      <td>Partai Amanat Nasional (PAN) akan menggelar Wo...</td>\n",
              "    </tr>\n",
              "    <tr>\n",
              "      <th>12</th>\n",
              "      <td>Beberes Data Jelang Pemilu, Ada 1.982 Pemilih ...</td>\n",
              "      <td>Panitia Pemuktahiran Data Pemilih (Pantarlih) ...</td>\n",
              "    </tr>\n",
              "    <tr>\n",
              "      <th>13</th>\n",
              "      <td>Mardani Yakin Elektabilitas Anies Akan Naik Us...</td>\n",
              "      <td>Elektabilitas Anies Baswedan mengalami penurun...</td>\n",
              "    </tr>\n",
              "    <tr>\n",
              "      <th>14</th>\n",
              "      <td>NasDem Tak Masalah Anies Merosot di Survei Lit...</td>\n",
              "      <td>Elektabilitas Anies Baswedan mengalami penurun...</td>\n",
              "    </tr>\n",
              "    <tr>\n",
              "      <th>15</th>\n",
              "      <td>RK Jadi Capres Alternatif Populer, Pengamat: S...</td>\n",
              "      <td>Litbang Kompas merilis hasil survei tentang ca...</td>\n",
              "    </tr>\n",
              "    <tr>\n",
              "      <th>16</th>\n",
              "      <td>Gus Muhaimin Ingin Kebudayaan Jadi Panglima Pe...</td>\n",
              "      <td>Ketua Umum Partai Kebangkitan Bangsa (PKB) Abd...</td>\n",
              "    </tr>\n",
              "  </tbody>\n",
              "</table>\n",
              "</div>\n",
              "      <button class=\"colab-df-convert\" onclick=\"convertToInteractive('df-1c9e38b8-fca8-4f72-ac44-a8fbea0b3bbc')\"\n",
              "              title=\"Convert this dataframe to an interactive table.\"\n",
              "              style=\"display:none;\">\n",
              "        \n",
              "  <svg xmlns=\"http://www.w3.org/2000/svg\" height=\"24px\"viewBox=\"0 0 24 24\"\n",
              "       width=\"24px\">\n",
              "    <path d=\"M0 0h24v24H0V0z\" fill=\"none\"/>\n",
              "    <path d=\"M18.56 5.44l.94 2.06.94-2.06 2.06-.94-2.06-.94-.94-2.06-.94 2.06-2.06.94zm-11 1L8.5 8.5l.94-2.06 2.06-.94-2.06-.94L8.5 2.5l-.94 2.06-2.06.94zm10 10l.94 2.06.94-2.06 2.06-.94-2.06-.94-.94-2.06-.94 2.06-2.06.94z\"/><path d=\"M17.41 7.96l-1.37-1.37c-.4-.4-.92-.59-1.43-.59-.52 0-1.04.2-1.43.59L10.3 9.45l-7.72 7.72c-.78.78-.78 2.05 0 2.83L4 21.41c.39.39.9.59 1.41.59.51 0 1.02-.2 1.41-.59l7.78-7.78 2.81-2.81c.8-.78.8-2.07 0-2.86zM5.41 20L4 18.59l7.72-7.72 1.47 1.35L5.41 20z\"/>\n",
              "  </svg>\n",
              "      </button>\n",
              "      \n",
              "  <style>\n",
              "    .colab-df-container {\n",
              "      display:flex;\n",
              "      flex-wrap:wrap;\n",
              "      gap: 12px;\n",
              "    }\n",
              "\n",
              "    .colab-df-convert {\n",
              "      background-color: #E8F0FE;\n",
              "      border: none;\n",
              "      border-radius: 50%;\n",
              "      cursor: pointer;\n",
              "      display: none;\n",
              "      fill: #1967D2;\n",
              "      height: 32px;\n",
              "      padding: 0 0 0 0;\n",
              "      width: 32px;\n",
              "    }\n",
              "\n",
              "    .colab-df-convert:hover {\n",
              "      background-color: #E2EBFA;\n",
              "      box-shadow: 0px 1px 2px rgba(60, 64, 67, 0.3), 0px 1px 3px 1px rgba(60, 64, 67, 0.15);\n",
              "      fill: #174EA6;\n",
              "    }\n",
              "\n",
              "    [theme=dark] .colab-df-convert {\n",
              "      background-color: #3B4455;\n",
              "      fill: #D2E3FC;\n",
              "    }\n",
              "\n",
              "    [theme=dark] .colab-df-convert:hover {\n",
              "      background-color: #434B5C;\n",
              "      box-shadow: 0px 1px 3px 1px rgba(0, 0, 0, 0.15);\n",
              "      filter: drop-shadow(0px 1px 2px rgba(0, 0, 0, 0.3));\n",
              "      fill: #FFFFFF;\n",
              "    }\n",
              "  </style>\n",
              "\n",
              "      <script>\n",
              "        const buttonEl =\n",
              "          document.querySelector('#df-1c9e38b8-fca8-4f72-ac44-a8fbea0b3bbc button.colab-df-convert');\n",
              "        buttonEl.style.display =\n",
              "          google.colab.kernel.accessAllowed ? 'block' : 'none';\n",
              "\n",
              "        async function convertToInteractive(key) {\n",
              "          const element = document.querySelector('#df-1c9e38b8-fca8-4f72-ac44-a8fbea0b3bbc');\n",
              "          const dataTable =\n",
              "            await google.colab.kernel.invokeFunction('convertToInteractive',\n",
              "                                                     [key], {});\n",
              "          if (!dataTable) return;\n",
              "\n",
              "          const docLinkHtml = 'Like what you see? Visit the ' +\n",
              "            '<a target=\"_blank\" href=https://colab.research.google.com/notebooks/data_table.ipynb>data table notebook</a>'\n",
              "            + ' to learn more about interactive tables.';\n",
              "          element.innerHTML = '';\n",
              "          dataTable['output_type'] = 'display_data';\n",
              "          await google.colab.output.renderOutput(dataTable, element);\n",
              "          const docLink = document.createElement('div');\n",
              "          docLink.innerHTML = docLinkHtml;\n",
              "          element.appendChild(docLink);\n",
              "        }\n",
              "      </script>\n",
              "    </div>\n",
              "  </div>\n",
              "  "
            ]
          },
          "metadata": {}
        }
      ]
    },
    {
      "cell_type": "code",
      "source": [
        "from google.colab import files"
      ],
      "metadata": {
        "id": "oaAjUxSzWIys"
      },
      "execution_count": 9,
      "outputs": []
    },
    {
      "cell_type": "code",
      "source": [
        "df.to_csv('scrape_detik.csv', index=False)\n",
        "\n",
        "# Jika menggunakan Google Colabs maka lakukan ini\n",
        "files.download('scrape_detik.csv')"
      ],
      "metadata": {
        "colab": {
          "base_uri": "https://localhost:8080/",
          "height": 17
        },
        "id": "-rVzW3rzWOGW",
        "outputId": "f087749a-1d6e-4144-ab3e-303a1a8e3605"
      },
      "execution_count": 14,
      "outputs": [
        {
          "output_type": "display_data",
          "data": {
            "text/plain": [
              "<IPython.core.display.Javascript object>"
            ],
            "application/javascript": [
              "\n",
              "    async function download(id, filename, size) {\n",
              "      if (!google.colab.kernel.accessAllowed) {\n",
              "        return;\n",
              "      }\n",
              "      const div = document.createElement('div');\n",
              "      const label = document.createElement('label');\n",
              "      label.textContent = `Downloading \"${filename}\": `;\n",
              "      div.appendChild(label);\n",
              "      const progress = document.createElement('progress');\n",
              "      progress.max = size;\n",
              "      div.appendChild(progress);\n",
              "      document.body.appendChild(div);\n",
              "\n",
              "      const buffers = [];\n",
              "      let downloaded = 0;\n",
              "\n",
              "      const channel = await google.colab.kernel.comms.open(id);\n",
              "      // Send a message to notify the kernel that we're ready.\n",
              "      channel.send({})\n",
              "\n",
              "      for await (const message of channel.messages) {\n",
              "        // Send a message to notify the kernel that we're ready.\n",
              "        channel.send({})\n",
              "        if (message.buffers) {\n",
              "          for (const buffer of message.buffers) {\n",
              "            buffers.push(buffer);\n",
              "            downloaded += buffer.byteLength;\n",
              "            progress.value = downloaded;\n",
              "          }\n",
              "        }\n",
              "      }\n",
              "      const blob = new Blob(buffers, {type: 'application/binary'});\n",
              "      const a = document.createElement('a');\n",
              "      a.href = window.URL.createObjectURL(blob);\n",
              "      a.download = filename;\n",
              "      div.appendChild(a);\n",
              "      a.click();\n",
              "      div.remove();\n",
              "    }\n",
              "  "
            ]
          },
          "metadata": {}
        },
        {
          "output_type": "display_data",
          "data": {
            "text/plain": [
              "<IPython.core.display.Javascript object>"
            ],
            "application/javascript": [
              "download(\"download_a20dabe3-bca4-4f1e-af5e-780de3e4a3a6\", \"scrape_detik.csv\", 40841)"
            ]
          },
          "metadata": {}
        }
      ]
    }
  ]
}