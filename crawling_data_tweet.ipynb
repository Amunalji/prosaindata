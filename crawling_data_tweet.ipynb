{
  "nbformat": 4,
  "nbformat_minor": 0,
  "metadata": {
    "colab": {
      "provenance": [],
      "authorship_tag": "ABX9TyO/BRppEejim5eQOJ2WlE15",
      "include_colab_link": true
    },
    "kernelspec": {
      "name": "python3",
      "display_name": "Python 3"
    },
    "language_info": {
      "name": "python"
    }
  },
  "cells": [
    {
      "cell_type": "markdown",
      "metadata": {
        "id": "view-in-github",
        "colab_type": "text"
      },
      "source": [
        "<a href=\"https://colab.research.google.com/github/Amunalji/prosaindata/blob/main/crawling_data_tweet.ipynb\" target=\"_parent\"><img src=\"https://colab.research.google.com/assets/colab-badge.svg\" alt=\"Open In Colab\"/></a>"
      ]
    },
    {
      "cell_type": "code",
      "execution_count": 20,
      "metadata": {
        "id": "gPeeo4kAEypl"
      },
      "outputs": [],
      "source": [
        "import tweepy, codecs\n",
        "\n",
        "\n",
        "\n",
        "consumer_key = 'jUDmKSWxeRkdhO06Yxudl3RtM'\n",
        "consumer_secret = 'HfsqUURQBHz6mxL8c7cAuSqpIScuP8FU6BoEiATLo1gWiuqAT1'\n",
        "access_token = '1303555792969236485-srJ3j1QokEMLc47JlhKVoLwxysH4sD'\n",
        "access_token_secret = 'lGqGQ0hriPkUQWt8PlHGaZW3o1tYsIN3wwQl5mXVyNxwq'\n",
        "\n",
        "auth = tweepy.OAuthHandler(consumer_key, consumer_secret)\n",
        "auth.set_access_token(access_token,access_token_secret)\n",
        "api = tweepy.API(auth)"
      ]
    },
    {
      "cell_type": "code",
      "source": [
        "results = api.search(q = 'GanjarPranowo',\n",
        "                    lang = 'tr',\n",
        "                    result_type = 'recent',\n",
        "                    count = 700 )"
      ],
      "metadata": {
        "id": "lLaFNwxNGEAl"
      },
      "execution_count": 49,
      "outputs": []
    },
    {
      "cell_type": "code",
      "source": [
        "import pandas as pd"
      ],
      "metadata": {
        "id": "Eo4GspxIGXwB"
      },
      "execution_count": 50,
      "outputs": []
    },
    {
      "cell_type": "code",
      "source": [
        "def tweets_df(results):\n",
        "    id_list = [tweet.id for tweet in results]\n",
        "    data_set = pd.DataFrame(id_list,columns=['id'])\n",
        "    \n",
        "    \n",
        "    data_set['text'] = [tweet.text for tweet in results]\n",
        "    data_set['name'] = [tweet.author.name for tweet in results]\n",
        "    data_set['user_location'] = [tweet.author.location for tweet in results]\n",
        "\n",
        "    return data_set"
      ],
      "metadata": {
        "id": "eloqSo14GaVn"
      },
      "execution_count": 51,
      "outputs": []
    },
    {
      "cell_type": "code",
      "source": [
        "data = tweets_df(results)"
      ],
      "metadata": {
        "id": "EmL-MgweHHsD"
      },
      "execution_count": 52,
      "outputs": []
    },
    {
      "cell_type": "code",
      "source": [
        "data.head(700)"
      ],
      "metadata": {
        "colab": {
          "base_uri": "https://localhost:8080/",
          "height": 747
        },
        "id": "U0BTGlvIHSPS",
        "outputId": "56d528dd-5374-42f3-f749-960a322041cb"
      },
      "execution_count": 57,
      "outputs": [
        {
          "output_type": "execute_result",
          "data": {
            "text/plain": [
              "                     id                                               text  \\\n",
              "0   1628302678890782720  @igoonnnn @MafiaWasit Piye iki pak @jokowi , p...   \n",
              "1   1628250026895106050          @LaingenLisa @ganjarpranowo Keren Yahh...   \n",
              "2   1628060678455189504             @iqbalbaqo @ganjarpranowo Iye Iye...😂🤭   \n",
              "3   1628060040950345730           RT @zeinvey: Piye den @ganjarpranowo ???   \n",
              "4   1627938385561260033                         @ganjarpranowo 😀😀😀.. Kocak   \n",
              "..                  ...                                                ...   \n",
              "57  1625627968642088969  @reniwnhyuhrtys @yusuf_dumdum @PDemokrat @joko...   \n",
              "58  1625079473438879744  @bengkeldodo @aniesbaswedan @ganjarpranowo @Ag...   \n",
              "59  1624983750626140164  @iyoet__1075 @mamang_opik @AirinDatangLagi @ga...   \n",
              "60  1624823579996217344  @bengkeldodo @aniesbaswedan @ganjarpranowo @Ag...   \n",
              "61  1624619194531856385  @otnayram_me @Dmz_73 @aan_muba @ganjarpranowo ...   \n",
              "\n",
              "                  name           user_location  \n",
              "0           Hulubalang                          \n",
              "1       RizkiR4madhani                          \n",
              "2   🅰dhiC1huyy 👍🏻☕🚬❤🇲🇨       Depok, Jawa Barat  \n",
              "3        Tatang Arifin                          \n",
              "4            Grestenan             Malang City  \n",
              "..                 ...                     ...  \n",
              "57           El syakur   Yogyakarta, Indonesia  \n",
              "58      Rizky Takemana              KulonUjung  \n",
              "59        Engkong_Hono  DKI Jakarta, Indonesia  \n",
              "60          katimo ktm                          \n",
              "61  Bam's Soemantri 🇮🇩               Indonesia  \n",
              "\n",
              "[62 rows x 4 columns]"
            ],
            "text/html": [
              "\n",
              "  <div id=\"df-5c7c84e4-6316-4d79-b835-1fdd23c9b959\">\n",
              "    <div class=\"colab-df-container\">\n",
              "      <div>\n",
              "<style scoped>\n",
              "    .dataframe tbody tr th:only-of-type {\n",
              "        vertical-align: middle;\n",
              "    }\n",
              "\n",
              "    .dataframe tbody tr th {\n",
              "        vertical-align: top;\n",
              "    }\n",
              "\n",
              "    .dataframe thead th {\n",
              "        text-align: right;\n",
              "    }\n",
              "</style>\n",
              "<table border=\"1\" class=\"dataframe\">\n",
              "  <thead>\n",
              "    <tr style=\"text-align: right;\">\n",
              "      <th></th>\n",
              "      <th>id</th>\n",
              "      <th>text</th>\n",
              "      <th>name</th>\n",
              "      <th>user_location</th>\n",
              "    </tr>\n",
              "  </thead>\n",
              "  <tbody>\n",
              "    <tr>\n",
              "      <th>0</th>\n",
              "      <td>1628302678890782720</td>\n",
              "      <td>@igoonnnn @MafiaWasit Piye iki pak @jokowi , p...</td>\n",
              "      <td>Hulubalang</td>\n",
              "      <td></td>\n",
              "    </tr>\n",
              "    <tr>\n",
              "      <th>1</th>\n",
              "      <td>1628250026895106050</td>\n",
              "      <td>@LaingenLisa @ganjarpranowo Keren Yahh...</td>\n",
              "      <td>RizkiR4madhani</td>\n",
              "      <td></td>\n",
              "    </tr>\n",
              "    <tr>\n",
              "      <th>2</th>\n",
              "      <td>1628060678455189504</td>\n",
              "      <td>@iqbalbaqo @ganjarpranowo Iye Iye...😂🤭</td>\n",
              "      <td>🅰dhiC1huyy 👍🏻☕🚬❤🇲🇨</td>\n",
              "      <td>Depok, Jawa Barat</td>\n",
              "    </tr>\n",
              "    <tr>\n",
              "      <th>3</th>\n",
              "      <td>1628060040950345730</td>\n",
              "      <td>RT @zeinvey: Piye den @ganjarpranowo ???</td>\n",
              "      <td>Tatang Arifin</td>\n",
              "      <td></td>\n",
              "    </tr>\n",
              "    <tr>\n",
              "      <th>4</th>\n",
              "      <td>1627938385561260033</td>\n",
              "      <td>@ganjarpranowo 😀😀😀.. Kocak</td>\n",
              "      <td>Grestenan</td>\n",
              "      <td>Malang City</td>\n",
              "    </tr>\n",
              "    <tr>\n",
              "      <th>...</th>\n",
              "      <td>...</td>\n",
              "      <td>...</td>\n",
              "      <td>...</td>\n",
              "      <td>...</td>\n",
              "    </tr>\n",
              "    <tr>\n",
              "      <th>57</th>\n",
              "      <td>1625627968642088969</td>\n",
              "      <td>@reniwnhyuhrtys @yusuf_dumdum @PDemokrat @joko...</td>\n",
              "      <td>El syakur</td>\n",
              "      <td>Yogyakarta, Indonesia</td>\n",
              "    </tr>\n",
              "    <tr>\n",
              "      <th>58</th>\n",
              "      <td>1625079473438879744</td>\n",
              "      <td>@bengkeldodo @aniesbaswedan @ganjarpranowo @Ag...</td>\n",
              "      <td>Rizky Takemana</td>\n",
              "      <td>KulonUjung</td>\n",
              "    </tr>\n",
              "    <tr>\n",
              "      <th>59</th>\n",
              "      <td>1624983750626140164</td>\n",
              "      <td>@iyoet__1075 @mamang_opik @AirinDatangLagi @ga...</td>\n",
              "      <td>Engkong_Hono</td>\n",
              "      <td>DKI Jakarta, Indonesia</td>\n",
              "    </tr>\n",
              "    <tr>\n",
              "      <th>60</th>\n",
              "      <td>1624823579996217344</td>\n",
              "      <td>@bengkeldodo @aniesbaswedan @ganjarpranowo @Ag...</td>\n",
              "      <td>katimo ktm</td>\n",
              "      <td></td>\n",
              "    </tr>\n",
              "    <tr>\n",
              "      <th>61</th>\n",
              "      <td>1624619194531856385</td>\n",
              "      <td>@otnayram_me @Dmz_73 @aan_muba @ganjarpranowo ...</td>\n",
              "      <td>Bam's Soemantri 🇮🇩</td>\n",
              "      <td>Indonesia</td>\n",
              "    </tr>\n",
              "  </tbody>\n",
              "</table>\n",
              "<p>62 rows × 4 columns</p>\n",
              "</div>\n",
              "      <button class=\"colab-df-convert\" onclick=\"convertToInteractive('df-5c7c84e4-6316-4d79-b835-1fdd23c9b959')\"\n",
              "              title=\"Convert this dataframe to an interactive table.\"\n",
              "              style=\"display:none;\">\n",
              "        \n",
              "  <svg xmlns=\"http://www.w3.org/2000/svg\" height=\"24px\"viewBox=\"0 0 24 24\"\n",
              "       width=\"24px\">\n",
              "    <path d=\"M0 0h24v24H0V0z\" fill=\"none\"/>\n",
              "    <path d=\"M18.56 5.44l.94 2.06.94-2.06 2.06-.94-2.06-.94-.94-2.06-.94 2.06-2.06.94zm-11 1L8.5 8.5l.94-2.06 2.06-.94-2.06-.94L8.5 2.5l-.94 2.06-2.06.94zm10 10l.94 2.06.94-2.06 2.06-.94-2.06-.94-.94-2.06-.94 2.06-2.06.94z\"/><path d=\"M17.41 7.96l-1.37-1.37c-.4-.4-.92-.59-1.43-.59-.52 0-1.04.2-1.43.59L10.3 9.45l-7.72 7.72c-.78.78-.78 2.05 0 2.83L4 21.41c.39.39.9.59 1.41.59.51 0 1.02-.2 1.41-.59l7.78-7.78 2.81-2.81c.8-.78.8-2.07 0-2.86zM5.41 20L4 18.59l7.72-7.72 1.47 1.35L5.41 20z\"/>\n",
              "  </svg>\n",
              "      </button>\n",
              "      \n",
              "  <style>\n",
              "    .colab-df-container {\n",
              "      display:flex;\n",
              "      flex-wrap:wrap;\n",
              "      gap: 12px;\n",
              "    }\n",
              "\n",
              "    .colab-df-convert {\n",
              "      background-color: #E8F0FE;\n",
              "      border: none;\n",
              "      border-radius: 50%;\n",
              "      cursor: pointer;\n",
              "      display: none;\n",
              "      fill: #1967D2;\n",
              "      height: 32px;\n",
              "      padding: 0 0 0 0;\n",
              "      width: 32px;\n",
              "    }\n",
              "\n",
              "    .colab-df-convert:hover {\n",
              "      background-color: #E2EBFA;\n",
              "      box-shadow: 0px 1px 2px rgba(60, 64, 67, 0.3), 0px 1px 3px 1px rgba(60, 64, 67, 0.15);\n",
              "      fill: #174EA6;\n",
              "    }\n",
              "\n",
              "    [theme=dark] .colab-df-convert {\n",
              "      background-color: #3B4455;\n",
              "      fill: #D2E3FC;\n",
              "    }\n",
              "\n",
              "    [theme=dark] .colab-df-convert:hover {\n",
              "      background-color: #434B5C;\n",
              "      box-shadow: 0px 1px 3px 1px rgba(0, 0, 0, 0.15);\n",
              "      filter: drop-shadow(0px 1px 2px rgba(0, 0, 0, 0.3));\n",
              "      fill: #FFFFFF;\n",
              "    }\n",
              "  </style>\n",
              "\n",
              "      <script>\n",
              "        const buttonEl =\n",
              "          document.querySelector('#df-5c7c84e4-6316-4d79-b835-1fdd23c9b959 button.colab-df-convert');\n",
              "        buttonEl.style.display =\n",
              "          google.colab.kernel.accessAllowed ? 'block' : 'none';\n",
              "\n",
              "        async function convertToInteractive(key) {\n",
              "          const element = document.querySelector('#df-5c7c84e4-6316-4d79-b835-1fdd23c9b959');\n",
              "          const dataTable =\n",
              "            await google.colab.kernel.invokeFunction('convertToInteractive',\n",
              "                                                     [key], {});\n",
              "          if (!dataTable) return;\n",
              "\n",
              "          const docLinkHtml = 'Like what you see? Visit the ' +\n",
              "            '<a target=\"_blank\" href=https://colab.research.google.com/notebooks/data_table.ipynb>data table notebook</a>'\n",
              "            + ' to learn more about interactive tables.';\n",
              "          element.innerHTML = '';\n",
              "          dataTable['output_type'] = 'display_data';\n",
              "          await google.colab.output.renderOutput(dataTable, element);\n",
              "          const docLink = document.createElement('div');\n",
              "          docLink.innerHTML = docLinkHtml;\n",
              "          element.appendChild(docLink);\n",
              "        }\n",
              "      </script>\n",
              "    </div>\n",
              "  </div>\n",
              "  "
            ]
          },
          "metadata": {},
          "execution_count": 57
        }
      ]
    },
    {
      "cell_type": "code",
      "source": [
        "data.info()"
      ],
      "metadata": {
        "colab": {
          "base_uri": "https://localhost:8080/"
        },
        "id": "95lCXoNHLj1k",
        "outputId": "83acfca6-8a66-4c6f-b0ca-97a0934617e3"
      },
      "execution_count": 58,
      "outputs": [
        {
          "output_type": "stream",
          "name": "stdout",
          "text": [
            "<class 'pandas.core.frame.DataFrame'>\n",
            "RangeIndex: 62 entries, 0 to 61\n",
            "Data columns (total 4 columns):\n",
            " #   Column         Non-Null Count  Dtype \n",
            "---  ------         --------------  ----- \n",
            " 0   id             62 non-null     int64 \n",
            " 1   text           62 non-null     object\n",
            " 2   name           62 non-null     object\n",
            " 3   user_location  62 non-null     object\n",
            "dtypes: int64(1), object(3)\n",
            "memory usage: 2.1+ KB\n"
          ]
        }
      ]
    },
    {
      "cell_type": "code",
      "source": [
        "from google.colab import files"
      ],
      "metadata": {
        "id": "ldjwmDQZR1cX"
      },
      "execution_count": 59,
      "outputs": []
    },
    {
      "cell_type": "code",
      "source": [
        "data.to_csv('crawlingdata_tweet.csv', index=False)\n",
        "\n",
        "# Jika menggunakan Google Colabs maka lakukan ini\n",
        "files.download('crawlingdata_tweet.csv')"
      ],
      "metadata": {
        "colab": {
          "base_uri": "https://localhost:8080/",
          "height": 17
        },
        "id": "c1FbGKHeR3e_",
        "outputId": "96e023f2-6ee9-48b9-d800-d2e3841dc05d"
      },
      "execution_count": 62,
      "outputs": [
        {
          "output_type": "display_data",
          "data": {
            "text/plain": [
              "<IPython.core.display.Javascript object>"
            ],
            "application/javascript": [
              "\n",
              "    async function download(id, filename, size) {\n",
              "      if (!google.colab.kernel.accessAllowed) {\n",
              "        return;\n",
              "      }\n",
              "      const div = document.createElement('div');\n",
              "      const label = document.createElement('label');\n",
              "      label.textContent = `Downloading \"${filename}\": `;\n",
              "      div.appendChild(label);\n",
              "      const progress = document.createElement('progress');\n",
              "      progress.max = size;\n",
              "      div.appendChild(progress);\n",
              "      document.body.appendChild(div);\n",
              "\n",
              "      const buffers = [];\n",
              "      let downloaded = 0;\n",
              "\n",
              "      const channel = await google.colab.kernel.comms.open(id);\n",
              "      // Send a message to notify the kernel that we're ready.\n",
              "      channel.send({})\n",
              "\n",
              "      for await (const message of channel.messages) {\n",
              "        // Send a message to notify the kernel that we're ready.\n",
              "        channel.send({})\n",
              "        if (message.buffers) {\n",
              "          for (const buffer of message.buffers) {\n",
              "            buffers.push(buffer);\n",
              "            downloaded += buffer.byteLength;\n",
              "            progress.value = downloaded;\n",
              "          }\n",
              "        }\n",
              "      }\n",
              "      const blob = new Blob(buffers, {type: 'application/binary'});\n",
              "      const a = document.createElement('a');\n",
              "      a.href = window.URL.createObjectURL(blob);\n",
              "      a.download = filename;\n",
              "      div.appendChild(a);\n",
              "      a.click();\n",
              "      div.remove();\n",
              "    }\n",
              "  "
            ]
          },
          "metadata": {}
        },
        {
          "output_type": "display_data",
          "data": {
            "text/plain": [
              "<IPython.core.display.Javascript object>"
            ],
            "application/javascript": [
              "download(\"download_4109dc74-8a17-4b77-a6f0-7d7feb171631\", \"crawlingdata_tweet.csv\", 6641)"
            ]
          },
          "metadata": {}
        }
      ]
    }
  ]
}